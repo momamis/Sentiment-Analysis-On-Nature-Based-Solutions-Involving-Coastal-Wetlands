{
 "cells": [
  {
   "cell_type": "code",
   "execution_count": 1,
   "id": "3ca94e62-fd6b-4369-aad8-bf40b897c668",
   "metadata": {},
   "outputs": [
    {
     "name": "stdout",
     "output_type": "stream",
     "text": [
      "Requirement already satisfied: newspaper3k in c:\\users\\asus\\anaconda3\\lib\\site-packages (0.2.8)\n",
      "Requirement already satisfied: beautifulsoup4>=4.4.1 in c:\\users\\asus\\anaconda3\\lib\\site-packages (from newspaper3k) (4.12.3)\n",
      "Requirement already satisfied: Pillow>=3.3.0 in c:\\users\\asus\\anaconda3\\lib\\site-packages (from newspaper3k) (10.4.0)\n",
      "Requirement already satisfied: PyYAML>=3.11 in c:\\users\\asus\\anaconda3\\lib\\site-packages (from newspaper3k) (6.0.1)\n",
      "Requirement already satisfied: cssselect>=0.9.2 in c:\\users\\asus\\anaconda3\\lib\\site-packages (from newspaper3k) (1.2.0)\n",
      "Requirement already satisfied: lxml>=3.6.0 in c:\\users\\asus\\anaconda3\\lib\\site-packages (from newspaper3k) (5.2.1)\n",
      "Requirement already satisfied: nltk>=3.2.1 in c:\\users\\asus\\anaconda3\\lib\\site-packages (from newspaper3k) (3.9.1)\n",
      "Requirement already satisfied: requests>=2.10.0 in c:\\users\\asus\\anaconda3\\lib\\site-packages (from newspaper3k) (2.32.3)\n",
      "Requirement already satisfied: feedparser>=5.2.1 in c:\\users\\asus\\anaconda3\\lib\\site-packages (from newspaper3k) (6.0.11)\n",
      "Requirement already satisfied: tldextract>=2.0.1 in c:\\users\\asus\\anaconda3\\lib\\site-packages (from newspaper3k) (5.1.2)\n",
      "Requirement already satisfied: feedfinder2>=0.0.4 in c:\\users\\asus\\anaconda3\\lib\\site-packages (from newspaper3k) (0.0.4)\n",
      "Requirement already satisfied: jieba3k>=0.35.1 in c:\\users\\asus\\anaconda3\\lib\\site-packages (from newspaper3k) (0.35.1)\n",
      "Requirement already satisfied: python-dateutil>=2.5.3 in c:\\users\\asus\\anaconda3\\lib\\site-packages (from newspaper3k) (2.9.0.post0)\n",
      "Requirement already satisfied: tinysegmenter==0.3 in c:\\users\\asus\\anaconda3\\lib\\site-packages (from newspaper3k) (0.3)\n",
      "Requirement already satisfied: soupsieve>1.2 in c:\\users\\asus\\anaconda3\\lib\\site-packages (from beautifulsoup4>=4.4.1->newspaper3k) (2.5)\n",
      "Requirement already satisfied: six in c:\\users\\asus\\anaconda3\\lib\\site-packages (from feedfinder2>=0.0.4->newspaper3k) (1.16.0)\n",
      "Requirement already satisfied: sgmllib3k in c:\\users\\asus\\anaconda3\\lib\\site-packages (from feedparser>=5.2.1->newspaper3k) (1.0.0)\n",
      "Requirement already satisfied: click in c:\\users\\asus\\anaconda3\\lib\\site-packages (from nltk>=3.2.1->newspaper3k) (8.1.7)\n",
      "Requirement already satisfied: joblib in c:\\users\\asus\\anaconda3\\lib\\site-packages (from nltk>=3.2.1->newspaper3k) (1.4.2)\n",
      "Requirement already satisfied: regex>=2021.8.3 in c:\\users\\asus\\anaconda3\\lib\\site-packages (from nltk>=3.2.1->newspaper3k) (2024.9.11)\n",
      "Requirement already satisfied: tqdm in c:\\users\\asus\\anaconda3\\lib\\site-packages (from nltk>=3.2.1->newspaper3k) (4.66.5)\n",
      "Requirement already satisfied: charset-normalizer<4,>=2 in c:\\users\\asus\\anaconda3\\lib\\site-packages (from requests>=2.10.0->newspaper3k) (3.3.2)\n",
      "Requirement already satisfied: idna<4,>=2.5 in c:\\users\\asus\\anaconda3\\lib\\site-packages (from requests>=2.10.0->newspaper3k) (3.7)\n",
      "Requirement already satisfied: urllib3<3,>=1.21.1 in c:\\users\\asus\\anaconda3\\lib\\site-packages (from requests>=2.10.0->newspaper3k) (2.2.3)\n",
      "Requirement already satisfied: certifi>=2017.4.17 in c:\\users\\asus\\anaconda3\\lib\\site-packages (from requests>=2.10.0->newspaper3k) (2024.8.30)\n",
      "Requirement already satisfied: requests-file>=1.4 in c:\\users\\asus\\anaconda3\\lib\\site-packages (from tldextract>=2.0.1->newspaper3k) (1.5.1)\n",
      "Requirement already satisfied: filelock>=3.0.8 in c:\\users\\asus\\anaconda3\\lib\\site-packages (from tldextract>=2.0.1->newspaper3k) (3.13.1)\n",
      "Requirement already satisfied: colorama in c:\\users\\asus\\anaconda3\\lib\\site-packages (from click->nltk>=3.2.1->newspaper3k) (0.4.6)\n",
      "Note: you may need to restart the kernel to use updated packages.\n"
     ]
    }
   ],
   "source": [
    "pip install newspaper3k\n"
   ]
  },
  {
   "cell_type": "code",
   "execution_count": 2,
   "id": "38135646-abc4-4f68-a8c1-fe706e4a7bf0",
   "metadata": {},
   "outputs": [
    {
     "name": "stdout",
     "output_type": "stream",
     "text": [
      "Requirement already satisfied: lxml[html_clean] in c:\\users\\asus\\anaconda3\\lib\\site-packages (5.2.1)Note: you may need to restart the kernel to use updated packages.\n",
      "\n",
      "Requirement already satisfied: lxml_html_clean in c:\\users\\asus\\anaconda3\\lib\\site-packages (from lxml[html_clean]) (0.4.2)\n"
     ]
    }
   ],
   "source": [
    "pip install lxml[html_clean]\n"
   ]
  },
  {
   "cell_type": "code",
   "execution_count": 6,
   "id": "b17590b9-9591-4026-b491-dc9d45bb3426",
   "metadata": {},
   "outputs": [],
   "source": [
    "from newspaper import Article\n",
    "import pandas as pd"
   ]
  },
  {
   "cell_type": "code",
   "execution_count": 4,
   "id": "6e6cde01-1bf5-4093-8f32-6d7496492025",
   "metadata": {},
   "outputs": [],
   "source": [
    "urls = [\"https://www.nature.org/en-us/about-us/where-we-work/priority-landscapes/gulf/stories-in-the-gulf/nature-based-solutions-gulf/\",\n",
    "       \"https://www.arup.com/en-us/insights/protecting-coastlines-and-communities-with-nature-based-solutions/\",\n",
    "       \"https://www.epa.gov/water-research/coastal-community-resilience-research\",\n",
    "       \"https://www.dredgingtoday.com/2025/01/08/fish-and-wildlife-service-25m-for-coastal-wetlands-restoration/\",\n",
    "       \"https://floridadep.gov/rcp/resilient-florida-program/content/resilient-florida-program-living-shorelines\",\n",
    "       \"https://www.fws.gov/press-release/2025-01/more-25-million-protect-and-restore-coastal-wetlands-and-build-coastal\",\n",
    "       \"https://www.pewtrusts.org/en/research-and-analysis/articles/2024/06/20/states-harness-coastal-wetlands-to-meet-climate-goals\",\n",
    "       \"https://www.theengineer.co.uk/content/opinion/turning-to-nature-to-protect-coastal-communities/\",\n",
    "       \"https://www.nature.org/en-us/about-us/where-we-work/asia-pacific/new-zealand/stories-in-new-zealand/blue-carbon/\",\n",
    "       \"https://www.nature.org/en-us/newsroom/developing-new-zealand-blue-carbon-projects/\",\n",
    "       \"https://www.pewtrusts.org/en/projects/advancing-coastal-wetlands-conservation\",\n",
    "       \"https://www.usgs.gov/news/featured-story/science-transformed-a-dry-streambed-oasis\",\n",
    "       \"https://nrc.canada.ca/en/stories/dredged-sand-used-nature-based-solution-against-coastal-erosion\",\n",
    "       \"https://www.weforum.org/stories/2024/07/how-reframing-the-value-blue-carbon-could-help-to-support-local-communities/\",\n",
    "       \"https://www.aramco.com/en/news-media/elements-magazine/2024/harnessing-the-power-of-nature-based-solutions\",\n",
    "       \"https://news.mongabay.com/2025/04/mangroves-mount-a-fragile-green-revival-in-iraqs-toxic-south/\",\n",
    "       \"https://news.mongabay.com/podcast/how-coastal-communities-are-adapting-to-sea-level-rise-with-living-shorelines/\",\n",
    "       \"https://news.mongabay.com/2024/02/what-principles-should-define-natural-climate-solutions-a-new-study-has-some-answers/\",\n",
    "       \"https://news.mongabay.com/2021/08/cost-of-wetlands-free-storm-damage-they-prevent-38-million-per-estuary/\",\n",
    "       \"https://news.mongabay.com/2023/12/thailand-tries-nature-based-water-management-to-adapt-to-climate-change/\",\n",
    "       \"https://news.mongabay.com/podcast/podcast-are-nature-based-solutions-the-best-fix-for-climate-change/\",\n",
    "       \"https://news.mongabay.com/2021/03/rivers-can-be-climate-change-solutions-too-commentary/\",\n",
    "       \"https://news.mongabay.com/2023/06/for-urban-poor-in-global-south-nature-based-solutions-have-always-been-a-way-to-get-by/\",\n",
    "       \"https://news.mongabay.com/2021/10/look-beyond-carbon-credits-to-put-a-price-on-natures-services-experts-say/\",\n",
    "       \"https://news.mongabay.com/2021/07/building-back-miamis-biscayne-bay-do-natural-solutions-hold-hope/\",\n",
    "       \"https://news.mongabay.com/2024/12/southeast-asia-in-review-2024/\",\n",
    "       \"https://news.mongabay.com/2024/02/where-sea-otters-play-salt-marshes-stay-new-study-shows/\",\n",
    "       \"https://news.mongabay.com/2024/06/a-brazilian-city-restores-its-mangroves-to-protect-against-climate-change/\",\n",
    "       \"https://news.mongabay.com/2024/02/pakistan-bucks-global-trend-with-30-year-mangrove-expansion/\",\n",
    "       \"https://india.mongabay.com/2022/03/commentary-a-city-on-marsh-why-indian-coastal-cities-need-to-design-and-build-with-nature/\",\n",
    "       \"https://news.mongabay.com/2024/10/thailands-budding-mangrove-restoration-plans-spark-both-hope-and-concern/\",\n",
    "       \"https://news.mongabay.com/2020/10/singapore-embarks-on-a-million-tree-planting-spree-to-protect-its-future/\",\n",
    "       \"https://india.mongabay.com/2025/04/the-conservation-conundrum-leaves-shrimp-farmers-on-edge/\",\n",
    "       \"https://india.mongabay.com/2020/01/states-can-alter-activities-prohibited-in-wetlands-as-per-latest-guidelines/\",\n",
    "       \"https://www.theguardian.com/us-news/2022/aug/12/seawalls-nature-based-alternatives-us\",\n",
    "       \"https://www.carbonbrief.org/cropped-17-november-2021-deforestation-declarations-food-systems-nature-based-solutions/\",\n",
    "       \"https://www.theguardian.com/environment/2023/nov/29/from-tree-planting-to-sponge-cities-why-nature-based-solutions-are-crucial-to-fighting-the-climate-crisis\",\n",
    "       \"https://www.theguardian.com/environment/2020/oct/14/re-wild-to-mitigate-the-climate-crisis-urge-leading-scientists\",\n",
    "       \"https://www.theguardian.com/environment/2021/jun/10/climate-and-nature-crises-solve-both-or-solve-neither-say-experts\",\n",
    "       \"https://www.theguardian.com/environment/2022/mar/17/can-oysters-save-new-york-city-from-next-big-storm\",\n",
    "       \"https://www.theguardian.com/environment/2023/mar/28/weve-seen-oiled-birds-fears-for-protected-wetlands-after-poole-harbour-spill\",\n",
    "       \"https://www.aljazeera.com/opinions/2021/10/31/restoring-wetlands-can-help-combat-climate-change\",\n",
    "       \"https://www.reuters.com/business/sustainable-business/bluer-horizons-putting-coastal-communities-before-carbon-markets-2023-04-19/\"]"
   ]
  },
  {
   "cell_type": "code",
   "execution_count": 9,
   "id": "f511795f-8e52-44da-a7c1-d492b3512893",
   "metadata": {},
   "outputs": [
    {
     "name": "stdout",
     "output_type": "stream",
     "text": [
      "Scraped: Nature-Based Solutions for the Gulf\n",
      "Scraped: Protecting coastlines and communities with nature-based solutions\n",
      "Scraped: Coastal Community Resilience Research\n",
      "Scraped: Fish and Wildlife Service: $25M for coastal wetlands restoration\n",
      "Scraped: Resilient Florida Program - Living Shorelines\n",
      "Scraped: More Than $25 Million To Protect and Restore Coastal Wetlands and Build Coastal Resiliency\n",
      "Scraped: States Harness Coastal Wetlands to Meet Climate Goals\n",
      "Scraped: Turning to nature to protect coastal communities\n",
      "Scraped: Advancing Blue Carbon in New Zealand's Coastal Wetlands\n",
      "Scraped: New Research Report—Developing New Zealand Blue Carbon Projects\n",
      "Scraped: Advancing Coastal Wetlands Conservation\n",
      "Scraped: The science that transformed a dry streambed into an oasis\n",
      "Scraped: Dredged sand used as a nature-based solution against coastal erosion\n",
      "Scraped: Why we need to expand the horizons of blue carbon projects\n",
      "Scraped: Harnessing the power of nature-based solutions\n",
      "Scraped: Mangroves mount a fragile green revival in Iraq’s toxic south\n",
      "Scraped: How coastal communities are adapting to sea level rise with ‘living shorelines’\n",
      "Scraped: What principles should define natural climate solutions? A new study has some answers\n",
      "Scraped: Cost of wetlands: Free. Storm damage they prevent: $38 million per estuary.\n",
      "Scraped: Thailand tries nature-based water management to adapt to climate change\n",
      "Scraped: Are ‘nature based solutions’ the best fix for climate change?\n",
      "Scraped: Rivers can be climate change solutions, too (commentary)\n",
      "Scraped: For urban poor in Global South, nature-based solutions have always been a way to get by\n",
      "Scraped: Look beyond carbon credits to put a price on nature’s services, experts say\n",
      "Scraped: Building back Miami’s Biscayne Bay: Do natural solutions hold hope?\n",
      "Scraped: Southeast Asia in review: 2024\n",
      "Scraped: Where sea otters play, salt marshes stay, new study shows\n",
      "Scraped: A Brazilian city restores its mangroves to protect against climate change\n",
      "Scraped: Pakistan bucks global trend with 30-year mangrove expansion\n",
      "Scraped: [Commentary] A city on marsh: Why Indian coastal cities need to design and build with nature\n",
      "Scraped: Thailand’s budding mangrove restoration plans spark both hope and concern\n",
      "Scraped: Singapore embarks on a million-tree planting spree to protect its future\n",
      "Scraped: The conservation conundrum leaves shrimp farmers on edge\n",
      "Scraped: States can alter activities prohibited in wetlands as per latest guidelines\n",
      "Scraped: Can nature-based alternatives to seawalls keep the waves at bay?\n",
      "Scraped: Cropped, 17 November 2021: Deforestation declarations; Food systems; Nature-based solutions\n",
      "Scraped: From tree planting to ‘sponge cities’: why nature-based solutions are crucial to fighting the climate crisis\n",
      "Scraped: Rewild to mitigate the climate crisis, urge leading scientists\n",
      "Scraped: Climate and nature crises: solve both or solve neither, say experts\n",
      "Scraped: Can oysters save New York City from the next big storm?\n",
      "Scraped: ‘We’ve seen oiled birds’: fears for protected wetlands after Poole harbour spill\n",
      "Scraped: Restoring wetlands can help combat climate change\n",
      "Failed to scrape https://www.reuters.com/business/sustainable-business/bluer-horizons-putting-coastal-communities-before-carbon-markets-2023-04-19/: Article `download()` failed with 401 Client Error: HTTP Forbidden for url: https://www.reuters.com/business/sustainable-business/bluer-horizons-putting-coastal-communities-before-carbon-markets-2023-04-19/ on URL https://www.reuters.com/business/sustainable-business/bluer-horizons-putting-coastal-communities-before-carbon-markets-2023-04-19/\n",
      "All articles saved to data_media/raw/media_articles.csv\n"
     ]
    }
   ],
   "source": [
    "data_media = []\n",
    "\n",
    "for url in urls:\n",
    "    try:\n",
    "        article = Article(url)\n",
    "        article.download()\n",
    "        article.parse()\n",
    "\n",
    "        data_media.append({\n",
    "            'url': url,\n",
    "            'title': article.title,\n",
    "            'text': article.text\n",
    "        })\n",
    "\n",
    "        print(f\"Scraped: {article.title}\")\n",
    "\n",
    "    except Exception as e:\n",
    "        print(f\"Failed to scrape {url}: {e}\")\n",
    "\n",
    "import os\n",
    "\n",
    "\n",
    "os.makedirs('data_media/raw', exist_ok=True)\n",
    "\n",
    "df_media = pd.DataFrame(data_media)\n",
    "df_media.to_csv('data_media/raw/media_articles.csv', index=False)\n",
    "print(\"All articles saved to data_media/raw/media_articles.csv\")"
   ]
  },
  {
   "cell_type": "code",
   "execution_count": 3,
   "id": "cb6c3a02-6d89-41ce-9694-0462a7b6edf2",
   "metadata": {},
   "outputs": [
    {
     "name": "stdout",
     "output_type": "stream",
     "text": [
      "                                                 url  \\\n",
      "0  https://www.nature.org/en-us/about-us/where-we...   \n",
      "1  https://www.arup.com/en-us/insights/protecting...   \n",
      "2  https://www.epa.gov/water-research/coastal-com...   \n",
      "3  https://www.dredgingtoday.com/2025/01/08/fish-...   \n",
      "4  https://floridadep.gov/rcp/resilient-florida-p...   \n",
      "\n",
      "                                               title  \\\n",
      "0                Nature-Based Solutions for the Gulf   \n",
      "1  Protecting coastlines and communities with nat...   \n",
      "2              Coastal Community Resilience Research   \n",
      "3  Fish and Wildlife Service: $25M for coastal we...   \n",
      "4      Resilient Florida Program - Living Shorelines   \n",
      "\n",
      "                                                text  \n",
      "0  As we welcome spring to the Gulf Coast, nestin...  \n",
      "1  Concepts we are exploring include:\\n\\nCreating...  \n",
      "2  On this page:\\n\\nEPA is collaborating with par...  \n",
      "3                                                NaN  \n",
      "4  Shorelines are dynamic environments that under...  \n"
     ]
    }
   ],
   "source": [
    "import pandas as pd\n",
    "df_media = pd.read_csv('data_media/raw/media_articles.csv')\n",
    "\n",
    "print(df_media.head())"
   ]
  },
  {
   "cell_type": "code",
   "execution_count": 10,
   "id": "12a2974f-60e8-496f-803b-9c0e4b6edca5",
   "metadata": {},
   "outputs": [],
   "source": [
    "df_media['clean_text'] = df_media['text'].str.replace('\\n', ' ', regex=True).str.strip()"
   ]
  },
  {
   "cell_type": "code",
   "execution_count": 11,
   "id": "cdeec3e2-8630-46f1-b5cb-dd6ef7d69aae",
   "metadata": {},
   "outputs": [
    {
     "name": "stdout",
     "output_type": "stream",
     "text": [
      "Requirement already satisfied: nltk in c:\\users\\asus\\anaconda3\\lib\\site-packages (3.9.1)\n",
      "Requirement already satisfied: click in c:\\users\\asus\\anaconda3\\lib\\site-packages (from nltk) (8.1.7)\n",
      "Requirement already satisfied: joblib in c:\\users\\asus\\anaconda3\\lib\\site-packages (from nltk) (1.4.2)\n",
      "Requirement already satisfied: regex>=2021.8.3 in c:\\users\\asus\\anaconda3\\lib\\site-packages (from nltk) (2024.9.11)\n",
      "Requirement already satisfied: tqdm in c:\\users\\asus\\anaconda3\\lib\\site-packages (from nltk) (4.66.5)\n",
      "Requirement already satisfied: colorama in c:\\users\\asus\\anaconda3\\lib\\site-packages (from click->nltk) (0.4.6)\n",
      "Note: you may need to restart the kernel to use updated packages.\n"
     ]
    }
   ],
   "source": [
    "pip install nltk\n"
   ]
  },
  {
   "cell_type": "code",
   "execution_count": 12,
   "id": "ae276225-6f2e-4c71-9ceb-e9a19dcc268e",
   "metadata": {},
   "outputs": [
    {
     "name": "stderr",
     "output_type": "stream",
     "text": [
      "[nltk_data] Downloading package vader_lexicon to\n",
      "[nltk_data]     C:\\Users\\Asus\\AppData\\Roaming\\nltk_data...\n",
      "[nltk_data]   Package vader_lexicon is already up-to-date!\n"
     ]
    }
   ],
   "source": [
    "import nltk\n",
    "nltk.download('vader_lexicon')\n",
    "from nltk.sentiment.vader import SentimentIntensityAnalyzer\n"
   ]
  },
  {
   "cell_type": "code",
   "execution_count": 13,
   "id": "53ad348f-be71-4462-a5ed-430c8a710a9c",
   "metadata": {},
   "outputs": [
    {
     "name": "stdout",
     "output_type": "stream",
     "text": [
      "                                               title sentiment\n",
      "0                Nature-Based Solutions for the Gulf  positive\n",
      "1  Protecting coastlines and communities with nat...  positive\n",
      "2              Coastal Community Resilience Research  positive\n",
      "3  Fish and Wildlife Service: $25M for coastal we...   neutral\n",
      "4      Resilient Florida Program - Living Shorelines  positive\n"
     ]
    }
   ],
   "source": [
    "sid = SentimentIntensityAnalyzer()\n",
    "\n",
    "df_media['sentiment_scores'] = df_media['clean_text'].apply(\n",
    "    lambda x: sid.polarity_scores(str(x)) if pd.notnull(x) else {'compound': 0.0, 'pos': 0.0, 'neu': 1.0, 'neg': 0.0}\n",
    ")\n",
    "\n",
    "df_media['compound_score'] = df_media['sentiment_scores'].apply(lambda x: x['compound'])\n",
    "\n",
    "df_media['sentiment'] = df_media['compound_score'].apply(\n",
    "    lambda score: 'positive' if score > 0.05 else ('negative' if score < -0.05 else 'neutral')\n",
    ")\n",
    "\n",
    "print(df_media[['title', 'sentiment']].head())\n"
   ]
  },
  {
   "cell_type": "code",
   "execution_count": 14,
   "id": "916721a9-8399-4000-8b65-6ce801764310",
   "metadata": {},
   "outputs": [
    {
     "data": {
      "image/png": "[encoded data removed]",
      "text/plain": [
       "<Figure size 640x480 with 1 Axes>"
      ]
     },
     "metadata": {},
     "output_type": "display_data"
    }
   ],
   "source": [
    "import matplotlib.pyplot as plt\n",
    "\n",
    "df_media['sentiment'].value_counts().plot(kind='bar', color=['green', 'grey', 'red'])\n",
    "plt.title('Sentiment of Media Articles on Coastal Wetlands Solutions')\n",
    "\n",
    "\n",
    "plt.show()"
   ]
  },
  {
   "cell_type": "code",
   "execution_count": 16,
   "id": "afcae286-8ecd-42ee-8a88-ea91383f4dd0",
   "metadata": {},
   "outputs": [
    {
     "name": "stdout",
     "output_type": "stream",
     "text": [
      "Positive Sentiment: 92.86%\n",
      "Negative Sentiment: 4.76%\n",
      "Neutral Sentiment: 2.38%\n"
     ]
    }
   ],
   "source": [
    "sentiment_counts = df_media['sentiment'].value_counts()\n",
    "\n",
    "sentiment_percentage = (sentiment_counts / len(df_media)) * 100\n",
    "\n",
    "print(f\"Positive Sentiment: {sentiment_percentage.get('positive', 0):.2f}%\")\n",
    "print(f\"Negative Sentiment: {sentiment_percentage.get('negative', 0):.2f}%\")\n",
    "print(f\"Neutral Sentiment: {sentiment_percentage.get('neutral', 0):.2f}%\")"
   ]
  },
  {
   "cell_type": "code",
   "execution_count": 17,
   "id": "10dce49e-2697-480c-9605-72204b8e4698",
   "metadata": {},
   "outputs": [
    {
     "data": {
      "image/png": "[encoded data removed]",
      "text/plain": [
       "<Figure size 640x480 with 1 Axes>"
      ]
     },
     "metadata": {},
     "output_type": "display_data"
    }
   ],
   "source": [
    "sentiment_percentage.plot(kind='bar', color=['green', 'grey', 'red'])\n",
    "\n",
    "plt.title('Sentiment of Media Articles on Coastal Wetlands Solutions')\n",
    "plt.xlabel('Sentiment')\n",
    "plt.ylabel('Percentage')\n",
    "\n",
    "plt.savefig('sentiment_wetlands_media.png', dpi=300)\n",
    "plt.show()"
   ]
  },
  {
   "cell_type": "code",
   "execution_count": 18,
   "id": "99072465-966f-4728-bc5b-f15727483bb4",
   "metadata": {},
   "outputs": [
    {
     "name": "stdout",
     "output_type": "stream",
     "text": [
      "Requirement already satisfied: requests in c:\\users\\asus\\anaconda3\\lib\\site-packages (2.32.3)\n",
      "Requirement already satisfied: pandas in c:\\users\\asus\\anaconda3\\lib\\site-packages (2.2.2)\n",
      "Requirement already satisfied: charset-normalizer<4,>=2 in c:\\users\\asus\\anaconda3\\lib\\site-packages (from requests) (3.3.2)\n",
      "Requirement already satisfied: idna<4,>=2.5 in c:\\users\\asus\\anaconda3\\lib\\site-packages (from requests) (3.7)\n",
      "Requirement already satisfied: urllib3<3,>=1.21.1 in c:\\users\\asus\\anaconda3\\lib\\site-packages (from requests) (2.2.3)\n",
      "Requirement already satisfied: certifi>=2017.4.17 in c:\\users\\asus\\anaconda3\\lib\\site-packages (from requests) (2024.8.30)\n",
      "Requirement already satisfied: numpy>=1.26.0 in c:\\users\\asus\\anaconda3\\lib\\site-packages (from pandas) (1.26.4)\n",
      "Requirement already satisfied: python-dateutil>=2.8.2 in c:\\users\\asus\\anaconda3\\lib\\site-packages (from pandas) (2.9.0.post0)\n",
      "Requirement already satisfied: pytz>=2020.1 in c:\\users\\asus\\anaconda3\\lib\\site-packages (from pandas) (2024.1)\n",
      "Requirement already satisfied: tzdata>=2022.7 in c:\\users\\asus\\anaconda3\\lib\\site-packages (from pandas) (2023.3)\n",
      "Requirement already satisfied: six>=1.5 in c:\\users\\asus\\anaconda3\\lib\\site-packages (from python-dateutil>=2.8.2->pandas) (1.16.0)\n",
      "Note: you may need to restart the kernel to use updated packages.\n"
     ]
    }
   ],
   "source": [
    "pip install requests pandas\n"
   ]
  },
  {
   "cell_type": "code",
   "execution_count": 31,
   "id": "5139f059-5c08-4f49-b2ac-cdfadc93f81c",
   "metadata": {},
   "outputs": [
    {
     "name": "stdout",
     "output_type": "stream",
     "text": [
      "Rate limit hit. Retrying in 1 seconds...\n",
      "Rate limit hit. Retrying in 2 seconds...\n",
      "Rate limit hit. Retrying in 4 seconds...\n",
      "Fetched 10 papers. Total so far: 10\n",
      "Fetched 10 papers. Total so far: 20\n",
      "Fetched 10 papers. Total so far: 30\n",
      "Rate limit hit. Retrying in 1 seconds...\n",
      "Fetched 10 papers. Total so far: 40\n",
      "Fetched 10 papers. Total so far: 50\n",
      "Fetched 10 papers. Total so far: 60\n",
      "Fetched 10 papers. Total so far: 70\n",
      "Fetched 10 papers. Total so far: 80\n",
      "Fetched 10 papers. Total so far: 90\n",
      "Fetched 10 papers. Total so far: 100\n",
      "Total papers fetched: 100\n"
     ]
    }
   ],
   "source": [
    "import requests\n",
    "import time\n",
    "\n",
    "base_url = \"https://api.semanticscholar.org/graph/v1/paper/search\"\n",
    "query = 'nature-based solutions coastal wetlands'\n",
    "total_papers = 100 \n",
    "papers_per_request = 10  \n",
    "all_papers = []  \n",
    "offset = 0  \n",
    "retries = 0  \n",
    "while len(all_papers) < total_papers:\n",
    "    params = {\n",
    "        'query': query,\n",
    "        'offset': offset,\n",
    "        'limit': papers_per_request,\n",
    "        'fields': 'title,abstract,authors,year,url'\n",
    "    }\n",
    "    \n",
    "    response = requests.get(base_url, params=params)\n",
    "    \n",
    "    if response.status_code == 200:\n",
    "        papers = response.json()['data']\n",
    "        all_papers.extend(papers)  \n",
    "        print(f\"Fetched {len(papers)} papers. Total so far: {len(all_papers)}\")\n",
    "        \n",
    "        offset += papers_per_request  \n",
    "        retries = 0 \n",
    "    elif response.status_code == 429:\n",
    "        print(f\"Rate limit hit. Retrying in {2 ** retries} seconds...\")\n",
    "        retries += 1\n",
    "        time.sleep(2 ** retries) \n",
    "    else:\n",
    "        print(f\"Error: Unable to fetch data. Status code {response.status_code}\")\n",
    "        break\n",
    "    \n",
    "    time.sleep(30)  \n",
    "print(f\"Total papers fetched: {len(all_papers)}\")\n",
    "\n"
   ]
  },
  {
   "cell_type": "code",
   "execution_count": 32,
   "id": "74aea6a9-7527-4f9d-ae0d-8f55a699eb84",
   "metadata": {},
   "outputs": [
    {
     "name": "stdout",
     "output_type": "stream",
     "text": [
      "Data saved to 'coastal_wetlands_papers.csv'.\n"
     ]
    }
   ],
   "source": [
    "papers_data = []\n",
    "\n",
    "for paper in all_papers:\n",
    "    paper_info = {\n",
    "        'title': paper.get('title'),\n",
    "        'abstract': paper.get('abstract'),\n",
    "        'authors': ', '.join([author.get('name') for author in paper.get('authors', [])]),  # Join authors' names\n",
    "        'year': paper.get('year'),\n",
    "        'url': paper.get('url')\n",
    "    }\n",
    "    papers_data.append(paper_info)\n",
    "\n",
    "df = pd.DataFrame(papers_data)\n",
    "\n",
    "df.to_csv('coastal_wetlands_papers.csv', index=False)\n",
    "\n",
    "print(\"Data saved to 'coastal_wetlands_papers.csv'.\")"
   ]
  },
  {
   "cell_type": "code",
   "execution_count": 18,
   "id": "a0827402-5416-4aa8-a4c0-e368b011d705",
   "metadata": {},
   "outputs": [
    {
     "data": {
      "text/html": [
       "<div>\n",
       "<style scoped>\n",
       "    .dataframe tbody tr th:only-of-type {\n",
       "        vertical-align: middle;\n",
       "    }\n",
       "\n",
       "    .dataframe tbody tr th {\n",
       "        vertical-align: top;\n",
       "    }\n",
       "\n",
       "    .dataframe thead th {\n",
       "        text-align: right;\n",
       "    }\n",
       "</style>\n",
       "<table border=\"1\" class=\"dataframe\">\n",
       "  <thead>\n",
       "    <tr style=\"text-align: right;\">\n",
       "      <th></th>\n",
       "      <th>title</th>\n",
       "      <th>abstract</th>\n",
       "      <th>authors</th>\n",
       "      <th>year</th>\n",
       "      <th>url</th>\n",
       "    </tr>\n",
       "  </thead>\n",
       "  <tbody>\n",
       "    <tr>\n",
       "      <th>0</th>\n",
       "      <td>Nature-based solutions could offset coastal sq...</td>\n",
       "      <td>In this study, we explored the opportunities f...</td>\n",
       "      <td>K. Thorne, Kevin J. Buffington, Michael J. Osl...</td>\n",
       "      <td>2025.0</td>\n",
       "      <td>https://www.semanticscholar.org/paper/e6a75652...</td>\n",
       "    </tr>\n",
       "    <tr>\n",
       "      <th>1</th>\n",
       "      <td>Constructed wetlands as nature based solutions...</td>\n",
       "      <td>This work presents an engaging hands-on activi...</td>\n",
       "      <td>C. M. Almeida, Tomé Azevedo, Laura Guimarães</td>\n",
       "      <td>2024.0</td>\n",
       "      <td>https://www.semanticscholar.org/paper/1f46d22c...</td>\n",
       "    </tr>\n",
       "    <tr>\n",
       "      <th>2</th>\n",
       "      <td>Wetland Vulnerability Metrics as a Rapid Indic...</td>\n",
       "      <td>Flood mitigation in low-gradient, tidally-infl...</td>\n",
       "      <td>N. Pricope, Greer Shivers</td>\n",
       "      <td>2022.0</td>\n",
       "      <td>https://www.semanticscholar.org/paper/554221aa...</td>\n",
       "    </tr>\n",
       "    <tr>\n",
       "      <th>3</th>\n",
       "      <td>Draft resolution on protection, management and...</td>\n",
       "      <td>NaN</td>\n",
       "      <td>NaN</td>\n",
       "      <td>2022.0</td>\n",
       "      <td>https://www.semanticscholar.org/paper/ae52d8d4...</td>\n",
       "    </tr>\n",
       "    <tr>\n",
       "      <th>4</th>\n",
       "      <td>Draft resolution on protection, management and...</td>\n",
       "      <td>NaN</td>\n",
       "      <td>NaN</td>\n",
       "      <td>2022.0</td>\n",
       "      <td>https://www.semanticscholar.org/paper/057701f9...</td>\n",
       "    </tr>\n",
       "  </tbody>\n",
       "</table>\n",
       "</div>"
      ],
      "text/plain": [
       "                                               title  \\\n",
       "0  Nature-based solutions could offset coastal sq...   \n",
       "1  Constructed wetlands as nature based solutions...   \n",
       "2  Wetland Vulnerability Metrics as a Rapid Indic...   \n",
       "3  Draft resolution on protection, management and...   \n",
       "4  Draft resolution on protection, management and...   \n",
       "\n",
       "                                            abstract  \\\n",
       "0  In this study, we explored the opportunities f...   \n",
       "1  This work presents an engaging hands-on activi...   \n",
       "2  Flood mitigation in low-gradient, tidally-infl...   \n",
       "3                                                NaN   \n",
       "4                                                NaN   \n",
       "\n",
       "                                             authors    year  \\\n",
       "0  K. Thorne, Kevin J. Buffington, Michael J. Osl...  2025.0   \n",
       "1       C. M. Almeida, Tomé Azevedo, Laura Guimarães  2024.0   \n",
       "2                          N. Pricope, Greer Shivers  2022.0   \n",
       "3                                                NaN  2022.0   \n",
       "4                                                NaN  2022.0   \n",
       "\n",
       "                                                 url  \n",
       "0  https://www.semanticscholar.org/paper/e6a75652...  \n",
       "1  https://www.semanticscholar.org/paper/1f46d22c...  \n",
       "2  https://www.semanticscholar.org/paper/554221aa...  \n",
       "3  https://www.semanticscholar.org/paper/ae52d8d4...  \n",
       "4  https://www.semanticscholar.org/paper/057701f9...  "
      ]
     },
     "execution_count": 18,
     "metadata": {},
     "output_type": "execute_result"
    }
   ],
   "source": [
    "df = pd.read_csv('coastal_wetlands_papers.csv')\n",
    "\n",
    "df.head()"
   ]
  },
  {
   "cell_type": "code",
   "execution_count": 19,
   "id": "069eb7a6-5afa-47ae-967a-3f08a70447f0",
   "metadata": {},
   "outputs": [],
   "source": [
    "\n",
    "import re\n",
    "def preprocess_text(text):\n",
    "   \n",
    "    if isinstance(text, str):\n",
    "        \n",
    "        text = re.sub(r'[^a-zA-Z\\s]', '', text)\n",
    "      \n",
    "        text = text.lower()\n",
    "       \n",
    "        text = \" \".join(text.split())\n",
    "    else:\n",
    "       \n",
    "        text = ''\n",
    "    return text\n",
    "\n",
    "df['cleaned_abstract'] = df['abstract'].apply(preprocess_text)"
   ]
  },
  {
   "cell_type": "code",
   "execution_count": 45,
   "id": "0c18e787-9cc9-44fa-a662-ff651122f040",
   "metadata": {},
   "outputs": [
    {
     "data": {
      "text/plain": [
       "0     In this study, we explored the opportunities f...\n",
       "1     This work presents an engaging hands-on activi...\n",
       "2     Flood mitigation in low-gradient, tidally-infl...\n",
       "3                                                      \n",
       "4                                                      \n",
       "                            ...                        \n",
       "95    Coastal protection, an important coral reef ec...\n",
       "96    Aquaculture production has very significantly ...\n",
       "97    Coastal areas, especially deltas, are some of ...\n",
       "98                                                     \n",
       "99                                                     \n",
       "Name: abstract, Length: 100, dtype: object"
      ]
     },
     "execution_count": 45,
     "metadata": {},
     "output_type": "execute_result"
    }
   ],
   "source": [
    "df['abstract'].isnull().sum()\n",
    "\n",
    "df['abstract'].fillna('')"
   ]
  },
  {
   "cell_type": "code",
   "execution_count": 20,
   "id": "54b1ddaf-09aa-41a8-9aab-9361f6d537f9",
   "metadata": {},
   "outputs": [],
   "source": [
    "df['cleaned_abstract'] = df['abstract'].apply(preprocess_text)"
   ]
  },
  {
   "cell_type": "code",
   "execution_count": 21,
   "id": "36953068-a2b5-4d60-a48f-fdb2d984a099",
   "metadata": {},
   "outputs": [
    {
     "name": "stdout",
     "output_type": "stream",
     "text": [
      "Requirement already satisfied: textblob in c:\\users\\asus\\anaconda3\\lib\\site-packages (0.19.0)\n",
      "Requirement already satisfied: nltk>=3.9 in c:\\users\\asus\\anaconda3\\lib\\site-packages (from textblob) (3.9.1)\n",
      "Requirement already satisfied: click in c:\\users\\asus\\anaconda3\\lib\\site-packages (from nltk>=3.9->textblob) (8.1.7)\n",
      "Requirement already satisfied: joblib in c:\\users\\asus\\anaconda3\\lib\\site-packages (from nltk>=3.9->textblob) (1.4.2)\n",
      "Requirement already satisfied: regex>=2021.8.3 in c:\\users\\asus\\anaconda3\\lib\\site-packages (from nltk>=3.9->textblob) (2024.9.11)\n",
      "Requirement already satisfied: tqdm in c:\\users\\asus\\anaconda3\\lib\\site-packages (from nltk>=3.9->textblob) (4.66.5)\n",
      "Requirement already satisfied: colorama in c:\\users\\asus\\anaconda3\\lib\\site-packages (from click->nltk>=3.9->textblob) (0.4.6)\n"
     ]
    }
   ],
   "source": [
    "!pip install textblob\n"
   ]
  },
  {
   "cell_type": "code",
   "execution_count": 22,
   "id": "8943eaaa-99ee-471a-a6fb-5290b58bb9ef",
   "metadata": {},
   "outputs": [
    {
     "name": "stdout",
     "output_type": "stream",
     "text": [
      "                                               title sentiment\n",
      "0  Nature-based solutions could offset coastal sq...  positive\n",
      "1  Constructed wetlands as nature based solutions...  positive\n",
      "2  Wetland Vulnerability Metrics as a Rapid Indic...  positive\n",
      "3  Draft resolution on protection, management and...   neutral\n",
      "4  Draft resolution on protection, management and...   neutral\n"
     ]
    }
   ],
   "source": [
    "from textblob import TextBlob\n",
    "\n",
    "def get_sentiment(text):\n",
    "    polarity = TextBlob(text).sentiment.polarity\n",
    "    if polarity > 0:\n",
    "        return 'positive'\n",
    "    elif polarity < 0:\n",
    "        return 'negative'\n",
    "    else:\n",
    "        return 'neutral'\n",
    "\n",
    "df['sentiment'] = df['cleaned_abstract'].apply(get_sentiment)\n",
    "\n",
    "print(df[['title', 'sentiment']].head())"
   ]
  },
  {
   "cell_type": "code",
   "execution_count": 23,
   "id": "bac5a19b-846e-4cd7-87ab-57afdc096cfa",
   "metadata": {},
   "outputs": [
    {
     "data": {
      "image/png": "[encoded data removed]",
      "text/plain": [
       "<Figure size 640x480 with 1 Axes>"
      ]
     },
     "metadata": {},
     "output_type": "display_data"
    }
   ],
   "source": [
    "import matplotlib.pyplot as plt\n",
    "\n",
    "df['sentiment'].value_counts().plot(kind='bar', color=['green', 'red', 'gray'])\n",
    "plt.title('Sentiment Distribution of Abstracts')\n",
    "plt.xlabel('Sentiment')\n",
    "plt.ylabel('Count')\n",
    "plt.show()"
   ]
  },
  {
   "cell_type": "code",
   "execution_count": 24,
   "id": "4d8aadaa-0e53-408e-843d-7c05813ad6b5",
   "metadata": {},
   "outputs": [],
   "source": [
    "df.to_csv('papers_with_sentiment.csv', index=False)\n"
   ]
  },
  {
   "cell_type": "code",
   "execution_count": 25,
   "id": "5003d53a-5e71-410c-a71f-c50b42a33f22",
   "metadata": {},
   "outputs": [
    {
     "name": "stdout",
     "output_type": "stream",
     "text": [
      "Positive Sentiment: 39.00%\n",
      "Negative Sentiment: 2.00%\n",
      "Neutral Sentiment: 1.00%\n"
     ]
    }
   ],
   "source": [
    "research_sentiment_counts = df['sentiment'].value_counts()\n",
    "\n",
    "research_sentiment_percentage = (sentiment_counts / len(df)) * 100\n",
    "\n",
    "print(f\"Positive Sentiment: {research_sentiment_percentage.get('positive', 0):.2f}%\")\n",
    "print(f\"Negative Sentiment: {research_sentiment_percentage.get('negative', 0):.2f}%\")\n",
    "print(f\"Neutral Sentiment: {research_sentiment_percentage.get('neutral', 0):.2f}%\")"
   ]
  },
  {
   "cell_type": "code",
   "execution_count": 26,
   "id": "f596c424-5255-4e7b-a1b9-e2fd9cd498a5",
   "metadata": {},
   "outputs": [
    {
     "data": {
      "image/png": "[encoded data removed]",
      "text/plain": [
       "<Figure size 640x480 with 1 Axes>"
      ]
     },
     "metadata": {},
     "output_type": "display_data"
    }
   ],
   "source": [
    "research_sentiment_percentage.plot(kind='bar', color=['green', 'grey', 'red'])\n",
    "\n",
    "plt.title('Sentiment of Research Articles on Coastal Wetlands Solutions')\n",
    "plt.xlabel('Sentiment')\n",
    "plt.ylabel('Percentage')\n",
    "plt.savefig('sentiment_wetlands_research.png', dpi=300)\n",
    "plt.show()"
   ]
  },
  {
   "cell_type": "code",
   "execution_count": null,
   "id": "854539f6-79d4-47d1-a89a-e232c32563d3",
   "metadata": {},
   "outputs": [],
   "source": []
  }
 ],
 "metadata": {
  "kernelspec": {
   "display_name": "Python 3 (ipykernel)",
   "language": "python",
   "name": "python3"
  },
  "language_info": {
   "codemirror_mode": {
    "name": "ipython",
    "version": 3
   },
   "file_extension": ".py",
   "mimetype": "text/x-python",
   "name": "python",
   "nbconvert_exporter": "python",
   "pygments_lexer": "ipython3",
   "version": "3.12.7"
  }
 },
 "nbformat": 4,
 "nbformat_minor": 5
}
